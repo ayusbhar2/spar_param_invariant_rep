{
 "cells": [
  {
   "cell_type": "markdown",
   "id": "fd88f78b-9759-47bd-b5f4-4182a4b9f009",
   "metadata": {
    "id": "fd88f78b-9759-47bd-b5f4-4182a4b9f009"
   },
   "source": [
    "# JAX"
   ]
  },
  {
   "cell_type": "markdown",
   "id": "d0231666-bbc6-43d7-8e90-11b47389b67d",
   "metadata": {},
   "source": [
    "## Computing Gradients"
   ]
  },
  {
   "cell_type": "markdown",
   "id": "485a7bfa-ac37-4e3a-bbe6-b78040cabb5b",
   "metadata": {
    "jp-MarkdownHeadingCollapsed": true
   },
   "source": [
    "The `jax.grad()` function forms the core of the auto-diff functionality offered by JAX. It only supports differentiation of scalar valued functions. For vector valued functions, the jacobian can be computed using one of the ways shown in the next section. (Note: all of the jacobian related methods also use `grad` as their workhorse.)\n",
    "\n",
    "For comparison, I have also included the Pytorch code that uses `torch.autograd.backward()` to achieve the same result as JAX. I have included my remarks below as my reasoning behind recommending JAX over Pytorch for this project."
   ]
  },
  {
   "cell_type": "markdown",
   "id": "8716d73b-82b2-483f-aa4a-0c895faba198",
   "metadata": {},
   "source": [
    "We start with a simple scalar function $f: \\mathbb{R} \\longrightarrow \\mathbb{R}$\n",
    "$$f(x) = x^3 + 2x^2 + x$$\n"
   ]
  },
  {
   "cell_type": "code",
   "execution_count": 40,
   "id": "cc7bf504-5f2a-48d0-adf6-aab9cd31a14e",
   "metadata": {},
   "outputs": [],
   "source": [
    "import jax.numpy as jnp\n",
    "\n",
    "def f(x):\n",
    "    return x**3 + 2*x**2 + x"
   ]
  },
  {
   "cell_type": "markdown",
   "id": "89592d43-98a6-4c3b-b0a0-2202c31dfb79",
   "metadata": {},
   "source": [
    "$$\\nabla f (x) = 3x^2 + 4x + 1$$"
   ]
  },
  {
   "cell_type": "code",
   "execution_count": 41,
   "id": "7ee1e107-c90d-4971-8207-cc3d3323ec28",
   "metadata": {},
   "outputs": [
    {
     "data": {
      "text/plain": [
       "Array(21., dtype=float32, weak_type=True)"
      ]
     },
     "execution_count": 41,
     "metadata": {},
     "output_type": "execute_result"
    }
   ],
   "source": [
    "# JAX\n",
    "from jax import grad\n",
    "\n",
    "grad(f)(2.)  # gradient of f at x = 2"
   ]
  },
  {
   "cell_type": "code",
   "execution_count": 42,
   "id": "e9bb0ecb-24d2-41f4-b6cb-4dc75036642e",
   "metadata": {},
   "outputs": [
    {
     "data": {
      "text/plain": [
       "tensor(21.)"
      ]
     },
     "execution_count": 42,
     "metadata": {},
     "output_type": "execute_result"
    }
   ],
   "source": [
    "# Pytorch\n",
    "import torch\n",
    "\n",
    "# NOTE: pytorch requires functions that are to be differentiated to accept\n",
    "# tensors as arguments. Moreover, each of these tensors must have\n",
    "# their `requires_grad=True`.\n",
    "\n",
    "p = torch.tensor(2., requires_grad=True)\n",
    "z = f(p)\n",
    "z.backward()\n",
    "p.grad  # gradient of f at x = 2"
   ]
  },
  {
   "cell_type": "markdown",
   "id": "9466db25-ba7b-403b-bdc4-9b2b9e02789b",
   "metadata": {},
   "source": [
    "Next, we take a scalar valued function of several variables $f: \\mathbb{R}^2 \\longrightarrow \\mathbb{R}$"
   ]
  },
  {
   "cell_type": "markdown",
   "id": "246943d8-db97-401c-88f5-3fc01488288f",
   "metadata": {
    "id": "059d2bc1-5ad8-459f-8865-23763701747e"
   },
   "source": [
    "$$f(x, y) = \\frac{1}{3}x^3 + 2 x y + \\frac{1}{3} y ^3$$"
   ]
  },
  {
   "cell_type": "code",
   "execution_count": 43,
   "id": "a0831a37-1cbe-4bd2-b196-1536691605f4",
   "metadata": {},
   "outputs": [],
   "source": [
    "def f(x, y):\n",
    "    return (1./3) * x**3 + 2 * x * y + (1./3) * y**3"
   ]
  },
  {
   "cell_type": "markdown",
   "id": "f78b15ae-c7ce-4c68-9351-dc7767c94c8b",
   "metadata": {},
   "source": [
    "$$\\nabla f(x, y) = (x^2 + 2y,\\ 2x + y^2)$$"
   ]
  },
  {
   "cell_type": "code",
   "execution_count": 44,
   "id": "f80ddbdc-5810-4bf7-a6a1-0f819844b82e",
   "metadata": {},
   "outputs": [
    {
     "data": {
      "text/plain": [
       "Array(8., dtype=float32, weak_type=True)"
      ]
     },
     "execution_count": 44,
     "metadata": {},
     "output_type": "execute_result"
    }
   ],
   "source": [
    "# JAX\n",
    "\n",
    "grad(f, 0)(2., 2.)  # partial of f w.r.t. x at (2, 2)"
   ]
  },
  {
   "cell_type": "code",
   "execution_count": 45,
   "id": "c558c80c-7fcf-410d-acc3-5d110426cc0f",
   "metadata": {},
   "outputs": [
    {
     "data": {
      "text/plain": [
       "Array(8., dtype=float32, weak_type=True)"
      ]
     },
     "execution_count": 45,
     "metadata": {},
     "output_type": "execute_result"
    }
   ],
   "source": [
    "grad(f, 1)(2., 2.)  # partial of f w.r.t. y at (2, 2)"
   ]
  },
  {
   "cell_type": "code",
   "execution_count": 46,
   "id": "51a3c7d2-eee7-40b7-a713-961a4aa439ae",
   "metadata": {},
   "outputs": [
    {
     "data": {
      "text/plain": [
       "(Array(8., dtype=float32, weak_type=True),\n",
       " Array(8., dtype=float32, weak_type=True))"
      ]
     },
     "execution_count": 46,
     "metadata": {},
     "output_type": "execute_result"
    }
   ],
   "source": [
    "grad(f, (0, 1))(2., 2.)  # total gradient of f at (2, 2)"
   ]
  },
  {
   "cell_type": "markdown",
   "id": "c163532e-eb4d-4d48-be17-8ee1dc9291c2",
   "metadata": {},
   "source": [
    "JAX provides the `jit` method to compile code for speedups."
   ]
  },
  {
   "cell_type": "code",
   "execution_count": 59,
   "id": "d332a122-eae7-4025-9e06-a56810ae4055",
   "metadata": {},
   "outputs": [
    {
     "name": "stdout",
     "output_type": "stream",
     "text": [
      "21.4 μs ± 295 ns per loop (mean ± std. dev. of 7 runs, 10,000 loops each)\n"
     ]
    }
   ],
   "source": [
    "from jax import jit\n",
    "\n",
    "# compute time test\n",
    "grad_f = jit(grad(f, (0, 1)))\n",
    "%timeit grad_f(2., 2.)"
   ]
  },
  {
   "cell_type": "code",
   "execution_count": 60,
   "id": "34e5ae30-74ef-49b0-940a-5f1fae3cd8cd",
   "metadata": {},
   "outputs": [
    {
     "name": "stdout",
     "output_type": "stream",
     "text": [
      "tensor(8.)\n",
      "tensor(8.)\n"
     ]
    }
   ],
   "source": [
    "# Pytorch\n",
    "\n",
    "p = torch.tensor(2., requires_grad=True)\n",
    "q = torch.tensor(2., requires_grad=True)\n",
    "z = f(p, q)\n",
    "z.backward()\n",
    "print(p.grad) # partial of f w.r.t. x at (2, 2)\n",
    "print(q.grad) # partial of f w.r.t. y at (2, 2)"
   ]
  },
  {
   "cell_type": "code",
   "execution_count": 61,
   "id": "40bcc99a-355a-4316-b87d-d0c673b3e707",
   "metadata": {},
   "outputs": [
    {
     "name": "stdout",
     "output_type": "stream",
     "text": [
      "172 μs ± 876 ns per loop (mean ± std. dev. of 7 runs, 10,000 loops each)\n"
     ]
    }
   ],
   "source": [
    "# compute time test\n",
    "p = torch.tensor(2., requires_grad=True)\n",
    "q = torch.tensor(2., requires_grad=True)\n",
    "\n",
    "%timeit f(p, q).backward()"
   ]
  },
  {
   "cell_type": "markdown",
   "id": "ad8c7d93-0fdb-4ac2-b136-5e2a49727b23",
   "metadata": {},
   "source": [
    "**Remark**: \n",
    "\n",
    "1. JAX api seem much more natural (and math-like) than PyTorch\n",
    "2. JAX also beats PyTorch (at least anecdotally) in compute time for simple gradient computation. This gradient computation is at the core of all higher order derivative computations and I would be surprised if Pytorch can beat JAX for higher order derivatives.\n",
    "3. Pytorch's methods for computing jacobian-vector-products are still in beta phase (https://pytorch.org/docs/stable/autograd.html)\n",
    "\n",
    "I recommend that we use JAX for this project.\n",
    "\n",
    "\"*If your primary concern is achieving the best possible performance for large-scale numerical computations and you are comfortable with or willing to learn a functional programming style, JAX is likely the better choice. Its performance optimizations and efficient handling of large matrices can provide significant speedups. \n",
    "On the other hand, if you prefer a more extensive ecosystem, better documentation, and a larger community for support, PyTorch is a solid choice. It is more user-friendly, especially if you are already familiar with its dynamic computation graph and other features.*\" - ChatGPT\n"
   ]
  },
  {
   "cell_type": "markdown",
   "id": "34089fee-2e4b-4045-ad4f-bb419feb632b",
   "metadata": {
    "id": "34089fee-2e4b-4045-ad4f-bb419feb632b"
   },
   "source": [
    "## Computing Jacobians"
   ]
  },
  {
   "cell_type": "markdown",
   "id": "059d2bc1-5ad8-459f-8865-23763701747e",
   "metadata": {
    "id": "059d2bc1-5ad8-459f-8865-23763701747e"
   },
   "source": [
    "Consider the function $f: \\mathbb{R}^2 \\longrightarrow \\mathbb{R}$\n",
    "$$f(\\mathbf{x}  ) = \\frac{1}{3}x_1^3 + 2 x_1 x_2 + \\frac{1}{3} x_2 ^3$$"
   ]
  },
  {
   "cell_type": "code",
   "execution_count": 68,
   "id": "e11cd109-3934-4343-a515-ce4215b7ea65",
   "metadata": {
    "id": "e11cd109-3934-4343-a515-ce4215b7ea65"
   },
   "outputs": [],
   "source": [
    "def f(x):\n",
    "    return (1./3) * x[0]**3 + 2 * x[0] * x[1] + (1./3) * x[1] ** 3\n",
    "\n",
    "# test case\n",
    "assert jnp.round(f(jnp.array([2., 2.])), 2) == 13.33"
   ]
  },
  {
   "cell_type": "markdown",
   "id": "3e919d73-6f28-48ab-9c9d-85fe636ed96c",
   "metadata": {
    "id": "3e919d73-6f28-48ab-9c9d-85fe636ed96c"
   },
   "source": [
    "Then, $$\\nabla f(x, y) = (x^2 + 2y,\\ 2x + y^2)$$"
   ]
  },
  {
   "cell_type": "code",
   "execution_count": 69,
   "id": "6497de6b-ba50-4c94-b763-4ef09ab85e53",
   "metadata": {
    "id": "6497de6b-ba50-4c94-b763-4ef09ab85e53"
   },
   "outputs": [
    {
     "data": {
      "text/plain": [
       "Array([8., 8.], dtype=float32)"
      ]
     },
     "execution_count": 69,
     "metadata": {},
     "output_type": "execute_result"
    }
   ],
   "source": [
    "# test case\n",
    "grad(f)(jnp.array([2., 2.]))\n",
    "\n",
    "# assert (\n",
    "#     grad(f)(jnp.array([2., 2.])) == jnp.array([8., 8.])\n",
    "# ).all()"
   ]
  },
  {
   "cell_type": "markdown",
   "id": "6ae8072e-cc04-470d-89b5-9bcf562e922b",
   "metadata": {
    "id": "6ae8072e-cc04-470d-89b5-9bcf562e922b"
   },
   "source": [
    "And, \n",
    "$$ \\nabla^2 f(x, y) = J(\\nabla f)(x, y) =\n",
    "\\begin{pmatrix} 2x & 2\\\\ 2 & 2y \\end{pmatrix}$$"
   ]
  },
  {
   "cell_type": "markdown",
   "id": "adb95bed-6892-441d-bd83-1185123dad02",
   "metadata": {
    "id": "adb95bed-6892-441d-bd83-1185123dad02"
   },
   "source": [
    "JAX provides multiple ways to compute the Jacobian of a function. They all give the same result, but vary significantly in their implementations. Below, we compare these methods on a small example, so the differences in performance are small. On larger examples, we should expect to see more dramatic differences."
   ]
  },
  {
   "cell_type": "code",
   "execution_count": 70,
   "id": "0b097a2e-bc29-48d1-9429-cedd1d8a7de7",
   "metadata": {
    "id": "0b097a2e-bc29-48d1-9429-cedd1d8a7de7"
   },
   "outputs": [],
   "source": [
    "from jax import jacobian, jacfwd, jacrev, hessian"
   ]
  },
  {
   "cell_type": "markdown",
   "id": "797af113-5b8f-4e2f-b11a-b3c06c91e649",
   "metadata": {
    "id": "797af113-5b8f-4e2f-b11a-b3c06c91e649"
   },
   "source": [
    "### Using `jacobian()`"
   ]
  },
  {
   "cell_type": "code",
   "execution_count": 73,
   "id": "478dc172-2dc7-4d64-ab8a-7b1fd4f71852",
   "metadata": {
    "colab": {
     "base_uri": "https://localhost:8080/"
    },
    "id": "478dc172-2dc7-4d64-ab8a-7b1fd4f71852",
    "outputId": "66c03c65-e4c6-405e-abae-4bc53c5a12c8"
   },
   "outputs": [
    {
     "name": "stdout",
     "output_type": "stream",
     "text": [
      "34.1 ms ± 460 μs per loop (mean ± std. dev. of 7 runs, 10 loops each)\n",
      "[[4. 2.]\n",
      " [2. 4.]]\n"
     ]
    }
   ],
   "source": [
    "%timeit jacobian(grad(f))(jnp.array([2., 2.]))\n",
    "print(jacobian(grad(f))(jnp.array([2., 2.])))"
   ]
  },
  {
   "cell_type": "code",
   "execution_count": 74,
   "id": "22b55870-2dea-4341-9a80-3e6f1bfb9116",
   "metadata": {},
   "outputs": [
    {
     "name": "stdout",
     "output_type": "stream",
     "text": [
      "127 ms ± 676 μs per loop (mean ± std. dev. of 7 runs, 10 loops each)\n"
     ]
    }
   ],
   "source": [
    "%timeit jacobian(jit(grad(f)))(jnp.array([2., 2.]))"
   ]
  },
  {
   "cell_type": "markdown",
   "id": "c4fab028-3bdf-457c-88c6-e8fdb9c0ee47",
   "metadata": {},
   "source": [
    "**NOTE**: `jacobian(jit(grad(f)))` is much slower than `jacobian(grad(f))`. Not sure why this is the case. May be important to understand."
   ]
  },
  {
   "cell_type": "code",
   "execution_count": 75,
   "id": "787e6525-b8cd-4a18-94b4-b46564f3f17e",
   "metadata": {
    "colab": {
     "base_uri": "https://localhost:8080/"
    },
    "id": "787e6525-b8cd-4a18-94b4-b46564f3f17e",
    "outputId": "99ad75b2-4e83-40d9-c201-ab470dab3568"
   },
   "outputs": [
    {
     "name": "stdout",
     "output_type": "stream",
     "text": [
      "3.51 ms ± 61.1 μs per loop (mean ± std. dev. of 7 runs, 100 loops each)\n"
     ]
    }
   ],
   "source": [
    "def grad_f(x):\n",
    "    return grad(f)(x)\n",
    "\n",
    "%timeit jacobian(jit(grad_f))(jnp.array([2., 2.]))"
   ]
  },
  {
   "cell_type": "markdown",
   "id": "b6d664f3-72a7-4a41-b3b6-5d5369a8c496",
   "metadata": {},
   "source": [
    "**NOTE**: wrapping `grad(f)` in another function `grad_f` speeds things up. Need to understand why."
   ]
  },
  {
   "cell_type": "markdown",
   "id": "2421baef-05d5-443e-94d7-13e9b67fa528",
   "metadata": {
    "id": "2421baef-05d5-443e-94d7-13e9b67fa528"
   },
   "source": [
    "### Using `jacfwd()`"
   ]
  },
  {
   "cell_type": "code",
   "execution_count": 80,
   "id": "85b47348-a1f5-4b9d-8ee2-4bae62bf9cbb",
   "metadata": {
    "colab": {
     "base_uri": "https://localhost:8080/"
    },
    "id": "85b47348-a1f5-4b9d-8ee2-4bae62bf9cbb",
    "outputId": "a14e3c96-7c13-40f6-8e15-4fd7bd4e3166"
   },
   "outputs": [
    {
     "name": "stdout",
     "output_type": "stream",
     "text": [
      "23.9 ms ± 585 μs per loop (mean ± std. dev. of 7 runs, 10 loops each)\n",
      "[[4. 2.]\n",
      " [2. 4.]]\n"
     ]
    }
   ],
   "source": [
    "%timeit jacfwd(grad_f)(jnp.array([2., 2.]))\n",
    "print(jacfwd(grad_f)(jnp.array([2., 2.])))"
   ]
  },
  {
   "cell_type": "code",
   "execution_count": 81,
   "id": "ec263015-17c3-41c3-8cef-f5a770066921",
   "metadata": {
    "colab": {
     "base_uri": "https://localhost:8080/"
    },
    "id": "ec263015-17c3-41c3-8cef-f5a770066921",
    "outputId": "e171315b-8f6c-4882-e543-a40c97ba4eb4"
   },
   "outputs": [
    {
     "name": "stdout",
     "output_type": "stream",
     "text": [
      "2.62 ms ± 14.2 μs per loop (mean ± std. dev. of 7 runs, 100 loops each)\n"
     ]
    }
   ],
   "source": [
    "# with jit on grad_f\n",
    "%timeit jacfwd(jit(grad_f))(jnp.array([2., 2.]))"
   ]
  },
  {
   "cell_type": "code",
   "execution_count": 82,
   "id": "83fa7879-b24b-4710-a6f6-9baf0fc8dee0",
   "metadata": {
    "colab": {
     "base_uri": "https://localhost:8080/"
    },
    "id": "83fa7879-b24b-4710-a6f6-9baf0fc8dee0",
    "outputId": "76f6ed31-0746-4864-d3f8-d67f5dbb76d5"
   },
   "outputs": [
    {
     "name": "stdout",
     "output_type": "stream",
     "text": [
      "48.4 ms ± 59.2 μs per loop (mean ± std. dev. of 7 runs, 10 loops each)\n"
     ]
    }
   ],
   "source": [
    "# with jit on grad_f and jacfwd\n",
    "%timeit jit(jacfwd(jit(grad_f)))(jnp.array([2., 2.]))"
   ]
  },
  {
   "cell_type": "markdown",
   "id": "38f9f0db-2465-48db-8515-4b8e2f8fa87f",
   "metadata": {
    "id": "38f9f0db-2465-48db-8515-4b8e2f8fa87f"
   },
   "source": [
    "### Using `jacrev()`"
   ]
  },
  {
   "cell_type": "code",
   "execution_count": 83,
   "id": "49bf8308-eb9f-4147-90ed-63f634bb6c13",
   "metadata": {
    "colab": {
     "base_uri": "https://localhost:8080/"
    },
    "id": "49bf8308-eb9f-4147-90ed-63f634bb6c13",
    "outputId": "7e111a5f-7b77-4a99-98cc-a955f0293364"
   },
   "outputs": [
    {
     "name": "stdout",
     "output_type": "stream",
     "text": [
      "34.3 ms ± 740 μs per loop (mean ± std. dev. of 7 runs, 10 loops each)\n",
      "[[4. 2.]\n",
      " [2. 4.]]\n"
     ]
    }
   ],
   "source": [
    "%timeit jacrev(grad_f)(jnp.array([2., 2.]))\n",
    "print(jacrev(grad_f)(jnp.array([2., 2.])))"
   ]
  },
  {
   "cell_type": "code",
   "execution_count": 84,
   "id": "89c80458-bd8f-4a24-ae0b-82ef80b2c599",
   "metadata": {
    "colab": {
     "base_uri": "https://localhost:8080/"
    },
    "id": "89c80458-bd8f-4a24-ae0b-82ef80b2c599",
    "outputId": "dcb5b110-054e-42d4-d06d-3a1adfad9274"
   },
   "outputs": [
    {
     "name": "stdout",
     "output_type": "stream",
     "text": [
      "3.39 ms ± 15.9 μs per loop (mean ± std. dev. of 7 runs, 100 loops each)\n"
     ]
    }
   ],
   "source": [
    "# with jit on grad_f\n",
    "%timeit jacrev(jit(grad_f))(jnp.array([2., 2.]))"
   ]
  },
  {
   "cell_type": "code",
   "execution_count": 85,
   "id": "f865861f-ef20-43db-a035-687968e1d395",
   "metadata": {
    "colab": {
     "base_uri": "https://localhost:8080/"
    },
    "id": "f865861f-ef20-43db-a035-687968e1d395",
    "outputId": "9ab42053-67f5-46d1-eac7-60aea3259d32"
   },
   "outputs": [
    {
     "name": "stdout",
     "output_type": "stream",
     "text": [
      "53.4 ms ± 63.1 μs per loop (mean ± std. dev. of 7 runs, 10 loops each)\n"
     ]
    }
   ],
   "source": [
    "# with jit on grad_f and jacrev\n",
    "%timeit jit(jacrev(jit(grad_f)))(jnp.array([2., 2.]))"
   ]
  },
  {
   "cell_type": "markdown",
   "id": "a0bd4a73-49c3-4cbe-8b63-0b11f67bef0d",
   "metadata": {
    "id": "a0bd4a73-49c3-4cbe-8b63-0b11f67bef0d"
   },
   "source": [
    "### Using `hessian()`\n",
    "\n",
    "Since hessian is just the Jacobian of the gradient function, I have included it here."
   ]
  },
  {
   "cell_type": "code",
   "execution_count": 86,
   "id": "60eecccc-d185-49b4-abf1-39ed4698cbd0",
   "metadata": {
    "colab": {
     "base_uri": "https://localhost:8080/"
    },
    "id": "60eecccc-d185-49b4-abf1-39ed4698cbd0",
    "outputId": "82a543e0-207d-4ee0-d23e-b2484559f341"
   },
   "outputs": [
    {
     "name": "stdout",
     "output_type": "stream",
     "text": [
      "30.3 ms ± 496 μs per loop (mean ± std. dev. of 7 runs, 1 loop each)\n",
      "[[4. 2.]\n",
      " [2. 4.]]\n"
     ]
    }
   ],
   "source": [
    "%timeit hessian(f)(jnp.array([2., 2.]))\n",
    "print(hessian(f)(jnp.array([2., 2.])))"
   ]
  },
  {
   "cell_type": "code",
   "execution_count": 87,
   "id": "b5088c4f-ce45-4233-aab8-5ca14672ab51",
   "metadata": {
    "colab": {
     "base_uri": "https://localhost:8080/"
    },
    "id": "b5088c4f-ce45-4233-aab8-5ca14672ab51",
    "outputId": "70c61ade-63d8-4866-cfac-84c8a0ad11b4"
   },
   "outputs": [
    {
     "name": "stdout",
     "output_type": "stream",
     "text": [
      "7.13 ms ± 46.5 μs per loop (mean ± std. dev. of 7 runs, 100 loops each)\n"
     ]
    }
   ],
   "source": [
    "# with jit on f\n",
    "%timeit hessian(jit(f))(jnp.array([2., 2.]))"
   ]
  },
  {
   "cell_type": "code",
   "execution_count": 88,
   "id": "4eb6173c-9fb7-472d-ac98-2d2dc4293ad8",
   "metadata": {
    "colab": {
     "base_uri": "https://localhost:8080/"
    },
    "id": "4eb6173c-9fb7-472d-ac98-2d2dc4293ad8",
    "outputId": "c3d0dc30-1089-4402-ac7b-f2a50f24bc5d"
   },
   "outputs": [
    {
     "name": "stdout",
     "output_type": "stream",
     "text": [
      "60.9 ms ± 274 μs per loop (mean ± std. dev. of 7 runs, 10 loops each)\n"
     ]
    }
   ],
   "source": [
    "# with jit on f and hessian\n",
    "%timeit jit(hessian(jit(f)))(jnp.array([2., 2.]))"
   ]
  },
  {
   "cell_type": "markdown",
   "id": "4540bfc5-d6c1-4acb-8d7b-2a46dedf0cda",
   "metadata": {
    "id": "4540bfc5-d6c1-4acb-8d7b-2a46dedf0cda"
   },
   "source": [
    "## Computing Jacobian-vector-products"
   ]
  },
  {
   "cell_type": "markdown",
   "id": "5c3a2ffc-5ea6-4f00-912c-7eef98962e5d",
   "metadata": {
    "id": "5c3a2ffc-5ea6-4f00-912c-7eef98962e5d"
   },
   "source": [
    "JAX provides fast Jacobian-vector-products computations via auto-diff. Since the Hessian is just the Jacobian of the gradient function, we can use the same API to compute Hessian-vector-products"
   ]
  },
  {
   "cell_type": "markdown",
   "id": "b988f13f-8c2b-4451-acce-d554c2d3e309",
   "metadata": {
    "id": "b988f13f-8c2b-4451-acce-d554c2d3e309"
   },
   "source": [
    "### By computing the full Hessian (inefficient)"
   ]
  },
  {
   "cell_type": "code",
   "execution_count": 91,
   "id": "6bfde8f2-a529-49e2-ac4e-d68cd9c742db",
   "metadata": {
    "id": "6bfde8f2-a529-49e2-ac4e-d68cd9c742db"
   },
   "outputs": [],
   "source": [
    "p = jnp.array([.5, .5]) # point at which the hessian is to be considered"
   ]
  },
  {
   "cell_type": "code",
   "execution_count": 92,
   "id": "47f42fd0-ffe7-42ab-9a9b-89183c5f05e0",
   "metadata": {
    "id": "47f42fd0-ffe7-42ab-9a9b-89183c5f05e0"
   },
   "outputs": [],
   "source": [
    "v = jnp.array([1., 1.])"
   ]
  },
  {
   "cell_type": "code",
   "execution_count": 93,
   "id": "4e88e61c-0a98-4feb-9f0f-72e7b5576be8",
   "metadata": {
    "colab": {
     "base_uri": "https://localhost:8080/"
    },
    "id": "4e88e61c-0a98-4feb-9f0f-72e7b5576be8",
    "outputId": "6a5aa24c-9e4d-421f-b56d-d7ebe3e6959f"
   },
   "outputs": [
    {
     "data": {
      "text/plain": [
       "Array([[1., 2.],\n",
       "       [2., 1.]], dtype=float32)"
      ]
     },
     "execution_count": 93,
     "metadata": {},
     "output_type": "execute_result"
    }
   ],
   "source": [
    "# full hessian\n",
    "hessian(f)(p)"
   ]
  },
  {
   "cell_type": "code",
   "execution_count": 94,
   "id": "13b282ac-637f-4762-9c1e-db5b62739389",
   "metadata": {
    "colab": {
     "base_uri": "https://localhost:8080/"
    },
    "id": "13b282ac-637f-4762-9c1e-db5b62739389",
    "outputId": "1bf5472a-455d-48e3-d675-2a121610812b"
   },
   "outputs": [
    {
     "name": "stdout",
     "output_type": "stream",
     "text": [
      "29.7 ms ± 1.19 ms per loop (mean ± std. dev. of 7 runs, 10 loops each)\n",
      "[3. 3.]\n"
     ]
    }
   ],
   "source": [
    "# hessian vector product\n",
    "%timeit jnp.dot(hessian(f)(p), v)\n",
    "print(jnp.dot(hessian(f)(p), v))"
   ]
  },
  {
   "cell_type": "code",
   "execution_count": 95,
   "id": "25c78f0d-38ab-496e-a7ec-95235b80387a",
   "metadata": {
    "colab": {
     "base_uri": "https://localhost:8080/"
    },
    "id": "25c78f0d-38ab-496e-a7ec-95235b80387a",
    "outputId": "061f1550-3805-40af-e2c1-37718281c085"
   },
   "outputs": [
    {
     "name": "stdout",
     "output_type": "stream",
     "text": [
      "7.18 ms ± 166 μs per loop (mean ± std. dev. of 7 runs, 100 loops each)\n"
     ]
    }
   ],
   "source": [
    "# with jit on f\n",
    "%timeit jnp.dot(hessian(jit(f))(p), v)"
   ]
  },
  {
   "cell_type": "markdown",
   "id": "ee718dec-b9fe-4348-863e-7a8b2623b8ed",
   "metadata": {
    "id": "ee718dec-b9fe-4348-863e-7a8b2623b8ed"
   },
   "source": [
    "### By using `jvp()`"
   ]
  },
  {
   "cell_type": "code",
   "execution_count": 96,
   "id": "d7331d1d-3488-4cbb-953d-dbe97b6b7ac5",
   "metadata": {
    "id": "d7331d1d-3488-4cbb-953d-dbe97b6b7ac5"
   },
   "outputs": [],
   "source": [
    "from jax import jvp"
   ]
  },
  {
   "cell_type": "code",
   "execution_count": 97,
   "id": "81082f1a-ff48-4c24-8a5a-37ce653891c2",
   "metadata": {
    "colab": {
     "base_uri": "https://localhost:8080/"
    },
    "id": "81082f1a-ff48-4c24-8a5a-37ce653891c2",
    "outputId": "854b4b65-c06a-4836-a96e-d14dd1eeaf3a"
   },
   "outputs": [
    {
     "name": "stdout",
     "output_type": "stream",
     "text": [
      "18.5 ms ± 222 μs per loop (mean ± std. dev. of 7 runs, 100 loops each)\n",
      "[3. 3.]\n"
     ]
    }
   ],
   "source": [
    "%timeit _, result = jvp(grad_f, [p], [v])\n",
    "print(jvp(grad_f, [p], [v])[1])"
   ]
  },
  {
   "cell_type": "code",
   "execution_count": 98,
   "id": "024f5007-f05b-4c81-b238-4336c4f31649",
   "metadata": {
    "id": "024f5007-f05b-4c81-b238-4336c4f31649",
    "outputId": "80d557bb-bb7a-4aff-ddc2-96d5c61f4a8c"
   },
   "outputs": [
    {
     "name": "stdout",
     "output_type": "stream",
     "text": [
      "599 μs ± 15.1 μs per loop (mean ± std. dev. of 7 runs, 1,000 loops each)\n"
     ]
    }
   ],
   "source": [
    "# with jit on grad_f\n",
    "%timeit _, result = jvp(jit(grad_f), [p], [v]) # WHOA!"
   ]
  },
  {
   "cell_type": "markdown",
   "id": "a2615bb8-bc0c-4f19-ad02-3504bcf334e1",
   "metadata": {
    "id": "a2615bb8-bc0c-4f19-ad02-3504bcf334e1"
   },
   "source": [
    "Clearly, using `jax.jvp()` wins over computing the full hessian. More interestingly, **using `jit()` on the grad function dramatically reduces the compute time**. This is not surprising because `jvp()` needs to evaluate the grad function $O(n)$ times. Having it precompiled makes a huge difference."
   ]
  },
  {
   "cell_type": "markdown",
   "id": "ff5fecdc-7810-423a-85e2-52c824d260aa",
   "metadata": {
    "id": "ff5fecdc-7810-423a-85e2-52c824d260aa"
   },
   "source": [
    "## Computing Hessian Eigenspectrum"
   ]
  },
  {
   "cell_type": "markdown",
   "id": "cc1c7c2f-20f6-4236-8f4c-94738be31a5a",
   "metadata": {
    "id": "cc1c7c2f-20f6-4236-8f4c-94738be31a5a"
   },
   "source": [
    "### By computing full hessian (inefficient)\n",
    "\n",
    "Multiple packages have multiple APIs for eigen decomposition of Hermitian matrices"
   ]
  },
  {
   "cell_type": "code",
   "execution_count": 27,
   "id": "fcb02fa2-7db4-4bb0-85bd-dfe52683f983",
   "metadata": {
    "colab": {
     "base_uri": "https://localhost:8080/"
    },
    "id": "fcb02fa2-7db4-4bb0-85bd-dfe52683f983",
    "outputId": "bd6d1c6e-d794-4285-833a-f8d6ddaf31b8"
   },
   "outputs": [
    {
     "name": "stdout",
     "output_type": "stream",
     "text": [
      "eigenvalues: [-1.         2.9999998] \n",
      "eigenvectors: \n",
      "[[ 0.70710677  0.70710677]\n",
      " [-0.70710677  0.70710677]]\n"
     ]
    }
   ],
   "source": [
    "from jax.scipy.linalg import eigh as eigh1\n",
    "\n",
    "eigvals, eigvecs = eigh1(hessian(f)(p))\n",
    "print('eigenvalues: {} \\neigenvectors: \\n{}'.format(eigvals, eigvecs))"
   ]
  },
  {
   "cell_type": "code",
   "execution_count": 28,
   "id": "b4742c39-04ad-46a0-b400-0970d8d5fcaf",
   "metadata": {
    "colab": {
     "base_uri": "https://localhost:8080/"
    },
    "id": "b4742c39-04ad-46a0-b400-0970d8d5fcaf",
    "outputId": "d52ff6ce-1a25-4164-84b4-2bc69eda5a56"
   },
   "outputs": [
    {
     "name": "stdout",
     "output_type": "stream",
     "text": [
      "eigenvalues: [-1.         2.9999998] \n",
      "eigenvectors: \n",
      "[[ 0.70710677  0.70710677]\n",
      " [-0.70710677  0.70710677]]\n"
     ]
    }
   ],
   "source": [
    "from jax.numpy.linalg import eigh as eigh2\n",
    "\n",
    "eigvals, eigvecs = eigh2(hessian(f)(p))\n",
    "print('eigenvalues: {} \\neigenvectors: \\n{}'.format(eigvals, eigvecs))"
   ]
  },
  {
   "cell_type": "code",
   "execution_count": 29,
   "id": "b1f2e10a-2db4-461b-92eb-e199aac9fd5e",
   "metadata": {
    "colab": {
     "base_uri": "https://localhost:8080/"
    },
    "id": "b1f2e10a-2db4-461b-92eb-e199aac9fd5e",
    "outputId": "c51a8933-211d-4492-87c8-169f034d0f3e"
   },
   "outputs": [
    {
     "name": "stdout",
     "output_type": "stream",
     "text": [
      "eigenvalues: [-1.         2.9999998] \n",
      "eigenvectors: \n",
      "[[ 0.70710677  0.70710677]\n",
      " [-0.70710677  0.70710677]]\n"
     ]
    }
   ],
   "source": [
    "from jax.lax.linalg import eigh as eigh3\n",
    "\n",
    "eigvecs, eigvals = eigh3(hessian(f)(p))\n",
    "print('eigenvalues: {} \\neigenvectors: \\n{}'.format(eigvals, eigvecs))"
   ]
  },
  {
   "cell_type": "markdown",
   "id": "341f2868-bad4-43fd-898a-cb0240103fd2",
   "metadata": {
    "id": "341f2868-bad4-43fd-898a-cb0240103fd2"
   },
   "source": [
    "### By computing jacobian vector products (Lanczos' method)\n",
    "\n",
    "The Lanczos method computes the most extreme eigenvalues (and corresponding eigenvectors) of a matrix without storing the entire matrix. It achieves this by doing repeated matrix-vector products with dense vectors.\n",
    "\n",
    "The only reliable python implementation of the Lanczos algorithm that I could find is `scipy.sparse.linalg.eigsh` that optionally accepts a `scipy.sparse.linalg.LinearOperator` object in place of the full matrix. `LinearOperator` is a common interface for performing matrix-vector products\n",
    "\n",
    "**NOTE:** `scipy.sparse.linalg.eigsh` cannot compute all eigenvalues. The number of desired eigenvalues, k must be less than n."
   ]
  },
  {
   "cell_type": "code",
   "execution_count": 30,
   "id": "74d6bb2d-2423-4535-bd74-4f55a0ec8da3",
   "metadata": {
    "id": "74d6bb2d-2423-4535-bd74-4f55a0ec8da3"
   },
   "outputs": [],
   "source": [
    "def matvec(v):\n",
    "    _, result = jvp(grad_f, [p], [v])\n",
    "    return result"
   ]
  },
  {
   "cell_type": "code",
   "execution_count": 31,
   "id": "d18438d8-3520-4f85-88bf-2948380dbd65",
   "metadata": {
    "id": "d18438d8-3520-4f85-88bf-2948380dbd65"
   },
   "outputs": [],
   "source": [
    "from scipy.sparse.linalg import LinearOperator, eigsh\n",
    "\n",
    "linear_operator = LinearOperator((2, 2), matvec=matvec)"
   ]
  },
  {
   "cell_type": "code",
   "execution_count": 32,
   "id": "d80fb97b-6ca7-4a3a-aeb0-5d02bd32d99f",
   "metadata": {
    "colab": {
     "base_uri": "https://localhost:8080/"
    },
    "id": "d80fb97b-6ca7-4a3a-aeb0-5d02bd32d99f",
    "outputId": "5836951b-d4a9-44d5-ac6f-c58ad01da54f"
   },
   "outputs": [
    {
     "name": "stdout",
     "output_type": "stream",
     "text": [
      "eigenvalues: [3.] \n",
      "eigenvectors: \n",
      "[[-0.70710677]\n",
      " [-0.7071069 ]]\n"
     ]
    }
   ],
   "source": [
    "eigenvalues, eigenvectors = eigsh(linear_operator, k=1,\n",
    "                                  tol=0.001, which='LM',\n",
    "                                  return_eigenvectors=True)\n",
    "print('eigenvalues: {} \\neigenvectors: \\n{}'.format(eigenvalues, eigenvectors))"
   ]
  },
  {
   "cell_type": "markdown",
   "id": "xUuB9EbS3EDQ",
   "metadata": {
    "id": "xUuB9EbS3EDQ"
   },
   "source": [
    "## GPU environment (to be run on Colab)"
   ]
  },
  {
   "cell_type": "code",
   "execution_count": 1,
   "id": "YwTTqlA5287H",
   "metadata": {
    "id": "YwTTqlA5287H"
   },
   "outputs": [],
   "source": [
    "import jax\n",
    "import jax.numpy as jnp"
   ]
  },
  {
   "cell_type": "code",
   "execution_count": 2,
   "id": "aKlzHXih3S19",
   "metadata": {
    "colab": {
     "base_uri": "https://localhost:8080/"
    },
    "id": "aKlzHXih3S19",
    "outputId": "51146d00-ec6d-420f-cdac-d5dca29e0845"
   },
   "outputs": [
    {
     "data": {
      "text/plain": [
       "[cuda(id=0)]"
      ]
     },
     "execution_count": 2,
     "metadata": {},
     "output_type": "execute_result"
    }
   ],
   "source": [
    "jax.local_devices()"
   ]
  },
  {
   "cell_type": "code",
   "execution_count": 3,
   "id": "qFycH-mu3z7e",
   "metadata": {
    "id": "qFycH-mu3z7e"
   },
   "outputs": [],
   "source": [
    "from jax.scipy.linalg import svd\n",
    "\n",
    "with jax.default_device(jax.devices(\"gpu\")[0]):\n",
    "  x = jnp.array([[1., 2., 3.],\n",
    "                 [6., 5., 4.]])\n",
    "  u, s, vt = svd(x, full_matrices=False)"
   ]
  },
  {
   "cell_type": "code",
   "execution_count": 4,
   "id": "Ld2-VpQC4vJ_",
   "metadata": {
    "colab": {
     "base_uri": "https://localhost:8080/"
    },
    "id": "Ld2-VpQC4vJ_",
    "outputId": "3a478297-5dcb-43da-eadf-a20584e7b678"
   },
   "outputs": [
    {
     "data": {
      "text/plain": [
       "Array([[ 0.35538062,  0.93472177],\n",
       "       [ 0.93472177, -0.35538062]], dtype=float32)"
      ]
     },
     "execution_count": 4,
     "metadata": {},
     "output_type": "execute_result"
    }
   ],
   "source": [
    "u"
   ]
  },
  {
   "cell_type": "code",
   "execution_count": 5,
   "id": "yBALt-cS5Tzt",
   "metadata": {
    "colab": {
     "base_uri": "https://localhost:8080/"
    },
    "id": "yBALt-cS5Tzt",
    "outputId": "0f8d8122-8607-42f3-ee27-d4c3209daa3c"
   },
   "outputs": [
    {
     "name": "stdout",
     "output_type": "stream",
     "text": [
      "DISTRIB_ID=Ubuntu\n",
      "DISTRIB_RELEASE=22.04\n",
      "DISTRIB_CODENAME=jammy\n",
      "DISTRIB_DESCRIPTION=\"Ubuntu 22.04.3 LTS\"\n",
      "PRETTY_NAME=\"Ubuntu 22.04.3 LTS\"\n",
      "NAME=\"Ubuntu\"\n",
      "VERSION_ID=\"22.04\"\n",
      "VERSION=\"22.04.3 LTS (Jammy Jellyfish)\"\n",
      "VERSION_CODENAME=jammy\n",
      "ID=ubuntu\n",
      "ID_LIKE=debian\n",
      "HOME_URL=\"https://www.ubuntu.com/\"\n",
      "SUPPORT_URL=\"https://help.ubuntu.com/\"\n",
      "BUG_REPORT_URL=\"https://bugs.launchpad.net/ubuntu/\"\n",
      "PRIVACY_POLICY_URL=\"https://www.ubuntu.com/legal/terms-and-policies/privacy-policy\"\n",
      "UBUNTU_CODENAME=jammy\n"
     ]
    }
   ],
   "source": [
    "!cat /etc/*release"
   ]
  },
  {
   "cell_type": "code",
   "execution_count": 8,
   "id": "xdwzM4WK7cDu",
   "metadata": {
    "colab": {
     "base_uri": "https://localhost:8080/"
    },
    "id": "xdwzM4WK7cDu",
    "outputId": "9a27876f-2ef7-4b00-ce0e-21c159f396a8"
   },
   "outputs": [
    {
     "name": "stdout",
     "output_type": "stream",
     "text": [
      "Tue Jun 25 02:59:22 2024       \n",
      "+---------------------------------------------------------------------------------------+\n",
      "| NVIDIA-SMI 535.104.05             Driver Version: 535.104.05   CUDA Version: 12.2     |\n",
      "|-----------------------------------------+----------------------+----------------------+\n",
      "| GPU  Name                 Persistence-M | Bus-Id        Disp.A | Volatile Uncorr. ECC |\n",
      "| Fan  Temp   Perf          Pwr:Usage/Cap |         Memory-Usage | GPU-Util  Compute M. |\n",
      "|                                         |                      |               MIG M. |\n",
      "|=========================================+======================+======================|\n",
      "|   0  Tesla T4                       Off | 00000000:00:04.0 Off |                    0 |\n",
      "| N/A   77C    P0              34W /  70W |  11513MiB / 15360MiB |      0%      Default |\n",
      "|                                         |                      |                  N/A |\n",
      "+-----------------------------------------+----------------------+----------------------+\n",
      "                                                                                         \n",
      "+---------------------------------------------------------------------------------------+\n",
      "| Processes:                                                                            |\n",
      "|  GPU   GI   CI        PID   Type   Process name                            GPU Memory |\n",
      "|        ID   ID                                                             Usage      |\n",
      "|=======================================================================================|\n",
      "+---------------------------------------------------------------------------------------+\n"
     ]
    }
   ],
   "source": [
    "!nvidia-smi"
   ]
  },
  {
   "cell_type": "code",
   "execution_count": null,
   "id": "3e5e2bf8-5cad-4b00-a7b1-63c691d9b0a1",
   "metadata": {},
   "outputs": [],
   "source": []
  },
  {
   "cell_type": "code",
   "execution_count": null,
   "id": "397f4f41-81d4-4b60-b787-f6f8976424cb",
   "metadata": {},
   "outputs": [],
   "source": []
  },
  {
   "cell_type": "markdown",
   "id": "a809810d-b22b-4a8e-969d-e59b349702da",
   "metadata": {
    "jp-MarkdownHeadingCollapsed": true
   },
   "source": [
    "# **** Ignore everything below this ****"
   ]
  },
  {
   "cell_type": "markdown",
   "id": "d44002bf-1973-4e00-8e83-18dfac2c50a9",
   "metadata": {
    "id": "d44002bf-1973-4e00-8e83-18dfac2c50a9",
    "jp-MarkdownHeadingCollapsed": true
   },
   "source": [
    "# Pytorch"
   ]
  },
  {
   "cell_type": "markdown",
   "id": "ff09af79-48e1-4b4b-b5d3-c74719e90fb4",
   "metadata": {
    "id": "ff09af79-48e1-4b4b-b5d3-c74719e90fb4",
    "jp-MarkdownHeadingCollapsed": true
   },
   "source": [
    "## Tensor Basics"
   ]
  },
  {
   "cell_type": "code",
   "execution_count": null,
   "id": "a32604a5-f16f-4408-bd82-a9c4bb6440a8",
   "metadata": {
    "id": "a32604a5-f16f-4408-bd82-a9c4bb6440a8"
   },
   "outputs": [],
   "source": [
    "import torch"
   ]
  },
  {
   "cell_type": "code",
   "execution_count": null,
   "id": "2033194b-c421-407f-ab26-f7d209f36ee7",
   "metadata": {
    "id": "2033194b-c421-407f-ab26-f7d209f36ee7"
   },
   "outputs": [],
   "source": [
    "tensor = torch.rand(3,4)"
   ]
  },
  {
   "cell_type": "code",
   "execution_count": null,
   "id": "0070fdab-2a11-44fc-8406-b4f8126c3a66",
   "metadata": {
    "id": "0070fdab-2a11-44fc-8406-b4f8126c3a66",
    "outputId": "6dcb4b57-2030-446a-92d7-51098e554db8"
   },
   "outputs": [
    {
     "data": {
      "text/plain": [
       "tensor([[0.7349, 0.7685, 0.2651, 0.7987],\n",
       "        [0.3555, 0.0629, 0.6030, 0.1306],\n",
       "        [0.6583, 0.7184, 0.2795, 0.5068]])"
      ]
     },
     "execution_count": 3,
     "metadata": {},
     "output_type": "execute_result"
    }
   ],
   "source": [
    "tensor"
   ]
  },
  {
   "cell_type": "code",
   "execution_count": null,
   "id": "3f82d46c-f63e-40a3-8829-b23bd882451c",
   "metadata": {
    "id": "3f82d46c-f63e-40a3-8829-b23bd882451c",
    "outputId": "d6c46fd8-bed2-44c7-fa0b-b30198f5d502"
   },
   "outputs": [
    {
     "data": {
      "text/plain": [
       "tensor([0.7349, 0.7685, 0.2651, 0.7987])"
      ]
     },
     "execution_count": 4,
     "metadata": {},
     "output_type": "execute_result"
    }
   ],
   "source": [
    "tensor[0] # first row"
   ]
  },
  {
   "cell_type": "code",
   "execution_count": null,
   "id": "4e3fbd5f-690e-4236-9860-1d16de41cd40",
   "metadata": {
    "id": "4e3fbd5f-690e-4236-9860-1d16de41cd40",
    "outputId": "b0bb36f8-6ed6-4d7b-9555-9e4caee2c301"
   },
   "outputs": [
    {
     "data": {
      "text/plain": [
       "tensor([0.7349, 0.3555, 0.6583])"
      ]
     },
     "execution_count": 5,
     "metadata": {},
     "output_type": "execute_result"
    }
   ],
   "source": [
    "tensor[:, 0] # first column"
   ]
  },
  {
   "cell_type": "code",
   "execution_count": null,
   "id": "c0ae4ad9-38e0-42dd-8eed-c6fac38ed3cd",
   "metadata": {
    "id": "c0ae4ad9-38e0-42dd-8eed-c6fac38ed3cd",
    "outputId": "d0dff26f-f104-42d4-a1c2-6ae5af8cd61f"
   },
   "outputs": [
    {
     "data": {
      "text/plain": [
       "tensor([[0.7349, 0.7685],\n",
       "        [0.3555, 0.0629],\n",
       "        [0.6583, 0.7184]])"
      ]
     },
     "execution_count": 6,
     "metadata": {},
     "output_type": "execute_result"
    }
   ],
   "source": [
    "tensor[:, :2] # all rows and first 2 columns"
   ]
  },
  {
   "cell_type": "code",
   "execution_count": null,
   "id": "599c139b-9c7c-4920-ad8f-bc23527f88ad",
   "metadata": {
    "id": "599c139b-9c7c-4920-ad8f-bc23527f88ad",
    "outputId": "e22130a6-768e-4d26-fbf1-d975a295400a"
   },
   "outputs": [
    {
     "data": {
      "text/plain": [
       "tensor([[1.7349, 1.7685, 1.2651, 1.7987],\n",
       "        [1.3555, 1.0629, 1.6030, 1.1306],\n",
       "        [1.6583, 1.7184, 1.2795, 1.5068]])"
      ]
     },
     "execution_count": 7,
     "metadata": {},
     "output_type": "execute_result"
    }
   ],
   "source": [
    "tensor + 1"
   ]
  },
  {
   "cell_type": "code",
   "execution_count": null,
   "id": "bf4781b6-9000-45de-8051-d2b7e296003c",
   "metadata": {
    "id": "bf4781b6-9000-45de-8051-d2b7e296003c",
    "outputId": "e1ae280f-0946-4847-8e94-8e4003ea0323"
   },
   "outputs": [
    {
     "data": {
      "text/plain": [
       "tensor([[1.7349, 1.7685, 1.2651, 1.7987],\n",
       "        [1.3555, 1.0629, 1.6030, 1.1306],\n",
       "        [1.6583, 1.7184, 1.2795, 1.5068]])"
      ]
     },
     "execution_count": 8,
     "metadata": {},
     "output_type": "execute_result"
    }
   ],
   "source": [
    "tensor.add_(1)"
   ]
  },
  {
   "cell_type": "code",
   "execution_count": null,
   "id": "28f2cda6-2591-4133-baf5-6bb90f0770f2",
   "metadata": {
    "id": "28f2cda6-2591-4133-baf5-6bb90f0770f2"
   },
   "outputs": [],
   "source": [
    "t = torch.rand(3,4)"
   ]
  },
  {
   "cell_type": "code",
   "execution_count": null,
   "id": "392ad91a-1811-4580-a582-1116fc4bc1db",
   "metadata": {
    "id": "392ad91a-1811-4580-a582-1116fc4bc1db",
    "outputId": "b0ac9064-14e3-4cb4-9cd8-6e7a24ffea69"
   },
   "outputs": [
    {
     "data": {
      "text/plain": [
       "tensor([[0.7634, 0.4781, 0.4742, 0.9768],\n",
       "        [0.9262, 0.1710, 0.8580, 0.6171],\n",
       "        [0.5414, 0.5227, 0.7506, 0.3963]])"
      ]
     },
     "execution_count": 10,
     "metadata": {},
     "output_type": "execute_result"
    }
   ],
   "source": [
    "t"
   ]
  },
  {
   "cell_type": "code",
   "execution_count": null,
   "id": "690dc2df-0b6d-477c-9f8b-0a74578aad3f",
   "metadata": {
    "id": "690dc2df-0b6d-477c-9f8b-0a74578aad3f",
    "outputId": "8cd0effa-1ea5-4608-cc4a-aafd455eb05d"
   },
   "outputs": [
    {
     "data": {
      "text/plain": [
       "tensor([0.7634, 0.4781, 0.4742, 0.9768, 0.9262, 0.1710, 0.8580, 0.6171, 0.5414,\n",
       "        0.5227, 0.7506, 0.3963])"
      ]
     },
     "execution_count": 11,
     "metadata": {},
     "output_type": "execute_result"
    }
   ],
   "source": [
    "t.view(-1)"
   ]
  },
  {
   "cell_type": "markdown",
   "id": "a58971a6-b7a3-4b29-8aeb-0124638a13c7",
   "metadata": {
    "id": "a58971a6-b7a3-4b29-8aeb-0124638a13c7",
    "jp-MarkdownHeadingCollapsed": true
   },
   "source": [
    "## Neural Network Basics"
   ]
  },
  {
   "cell_type": "code",
   "execution_count": null,
   "id": "3c0fbc71-c585-417c-b3cf-400e20a2d3ba",
   "metadata": {
    "id": "3c0fbc71-c585-417c-b3cf-400e20a2d3ba"
   },
   "outputs": [],
   "source": [
    "import numpy as np\n",
    "np.random.seed(6)"
   ]
  },
  {
   "cell_type": "code",
   "execution_count": null,
   "id": "e5ee4ab2-bf6f-4cd0-b15e-65a0ec8f3da5",
   "metadata": {
    "id": "e5ee4ab2-bf6f-4cd0-b15e-65a0ec8f3da5"
   },
   "outputs": [],
   "source": [
    "from pathlib import Path\n",
    "import requests\n",
    "\n",
    "DATA_PATH = Path(\"data\")\n",
    "PATH = DATA_PATH / \"mnist\"\n",
    "\n",
    "PATH.mkdir(parents=True, exist_ok=True)\n",
    "\n",
    "URL = \"https://github.com/pytorch/tutorials/raw/main/_static/\"\n",
    "FILENAME = \"mnist.pkl.gz\"\n",
    "\n",
    "if not (PATH / FILENAME).exists():\n",
    "        content = requests.get(URL + FILENAME).content\n",
    "        (PATH / FILENAME).open(\"wb\").write(content)"
   ]
  },
  {
   "cell_type": "code",
   "execution_count": null,
   "id": "f71649f8-6147-4107-b839-2cbaed7dbd8c",
   "metadata": {
    "id": "f71649f8-6147-4107-b839-2cbaed7dbd8c"
   },
   "outputs": [],
   "source": [
    "import pickle\n",
    "import gzip\n",
    "\n",
    "with gzip.open((PATH / FILENAME).as_posix(), \"rb\") as f:\n",
    "        ((x_train, y_train), (x_valid, y_valid), _) = pickle.load(f, encoding=\"latin-1\")"
   ]
  },
  {
   "cell_type": "code",
   "execution_count": null,
   "id": "9d727cb2-ed32-46ea-8b00-cd0b038ca92f",
   "metadata": {
    "id": "9d727cb2-ed32-46ea-8b00-cd0b038ca92f",
    "outputId": "f832377e-d138-474d-ca7d-6c4ab38f8d89"
   },
   "outputs": [
    {
     "data": {
      "image/png": "[encoded data removed]",
      "text/plain": [
       "<Figure size 640x480 with 1 Axes>"
      ]
     },
     "metadata": {},
     "output_type": "display_data"
    },
    {
     "name": "stdout",
     "output_type": "stream",
     "text": [
      "(50000, 784)\n"
     ]
    }
   ],
   "source": [
    "from matplotlib import pyplot\n",
    "import numpy as np\n",
    "\n",
    "pyplot.imshow(x_train[0].reshape((28, 28)), cmap=\"gray\")\n",
    "# ``pyplot.show()`` only if not on Colab\n",
    "try:\n",
    "    import google.colab\n",
    "except ImportError:\n",
    "    pyplot.show()\n",
    "print(x_train.shape)"
   ]
  },
  {
   "cell_type": "code",
   "execution_count": null,
   "id": "e218a9ab-37a6-484b-aa76-82d1e2827f2f",
   "metadata": {
    "id": "e218a9ab-37a6-484b-aa76-82d1e2827f2f"
   },
   "outputs": [],
   "source": [
    "import torch\n",
    "\n",
    "x_train, y_train, x_valid, y_valid = map(\n",
    "    torch.tensor, (x_train, y_train, x_valid, y_valid)\n",
    ")\n",
    "m, n = x_train.shape"
   ]
  },
  {
   "cell_type": "code",
   "execution_count": null,
   "id": "043b2613-aa36-498d-a0ee-bb4cdbbea102",
   "metadata": {
    "id": "043b2613-aa36-498d-a0ee-bb4cdbbea102"
   },
   "outputs": [],
   "source": [
    "# using TensorDataset and DataLoader\n",
    "from torch.utils.data import DataLoader, TensorDataset\n",
    "\n",
    "train_ds = TensorDataset(x_train, y_train)\n",
    "train_dl = DataLoader(train_ds, batch_size=64)"
   ]
  },
  {
   "cell_type": "code",
   "execution_count": null,
   "id": "4294125c-0766-40ad-9a13-67b313849ebc",
   "metadata": {
    "id": "4294125c-0766-40ad-9a13-67b313849ebc"
   },
   "outputs": [],
   "source": [
    "# Define parameters (as attributes) and output function (as method) of the model class\n",
    "import math\n",
    "from torch import nn\n",
    "\n",
    "class Mnist_Logistic(nn.Module):  # nn.Module is like a Model baseclass\n",
    "    def __init__(self):\n",
    "        super().__init__()\n",
    "        self.lin = nn.Linear(784, 10)\n",
    "\n",
    "    def forward(self, xb):\n",
    "        return self.lin(xb)"
   ]
  },
  {
   "cell_type": "code",
   "execution_count": null,
   "id": "1349b0e5-f977-4391-873b-b83eeaf0ca9b",
   "metadata": {
    "id": "1349b0e5-f977-4391-873b-b83eeaf0ca9b"
   },
   "outputs": [],
   "source": [
    "# Define the loss function\n",
    "import torch.nn.functional as F\n",
    "\n",
    "loss_func = F.cross_entropy # emcompasses log softmax activation func"
   ]
  },
  {
   "cell_type": "code",
   "execution_count": null,
   "id": "2ac12cda-a06b-423a-8533-375b5aa9d01f",
   "metadata": {
    "id": "2ac12cda-a06b-423a-8533-375b5aa9d01f"
   },
   "outputs": [],
   "source": [
    "# Conpute accuracy of model\n",
    "\n",
    "def accuracy(out, yb):\n",
    "    preds = torch.argmax(out, dim=1)\n",
    "    return (preds == yb).float().mean()"
   ]
  },
  {
   "cell_type": "code",
   "execution_count": null,
   "id": "5e3ae01e-bb3f-4a26-83fb-e2cc652918b8",
   "metadata": {
    "id": "5e3ae01e-bb3f-4a26-83fb-e2cc652918b8"
   },
   "outputs": [],
   "source": [
    "# Train model\n",
    "from IPython.core.debugger import set_trace\n",
    "from torch import optim\n",
    "\n",
    "lr = 0.5  # learning rate\n",
    "epochs = 2  # how many epochs to train for\n",
    "loss_values = []\n",
    "\n",
    "def get_model():\n",
    "    # Initiate model\n",
    "    model = Mnist_Logistic()\n",
    "    return model, optim.SGD(model.parameters(), lr=lr)\n",
    "\n",
    "model, opt = get_model()\n",
    "for epoch in range(epochs):\n",
    "    for xb, yb in train_dl:\n",
    "        pred = model(xb)  # Note: model.forward is automatically called by the constructor\n",
    "        loss = loss_func(pred, yb)\n",
    "        loss_values.append(loss)\n",
    "\n",
    "        loss.backward()\n",
    "        opt.step()\n",
    "        opt.zero_grad()"
   ]
  },
  {
   "cell_type": "code",
   "execution_count": null,
   "id": "c13cec2c-8113-43a5-8177-0dbf7f6ebfce",
   "metadata": {
    "id": "c13cec2c-8113-43a5-8177-0dbf7f6ebfce",
    "outputId": "4f7aadd1-dcfa-4df4-970c-ef23ad311220"
   },
   "outputs": [
    {
     "data": {
      "text/plain": [
       "[<matplotlib.lines.Line2D at 0x12b22c710>]"
      ]
     },
     "execution_count": 22,
     "metadata": {},
     "output_type": "execute_result"
    },
    {
     "data": {
      "image/png": "[encoded data removed]",
      "text/plain": [
       "<Figure size 640x480 with 1 Axes>"
      ]
     },
     "metadata": {},
     "output_type": "display_data"
    }
   ],
   "source": [
    "from matplotlib import pyplot as plt\n",
    "\n",
    "plt.plot([l.detach().numpy() for l in loss_values])"
   ]
  },
  {
   "cell_type": "markdown",
   "id": "0560a6e0-9f7f-4752-b58f-b8fb037ed9a9",
   "metadata": {
    "id": "0560a6e0-9f7f-4752-b58f-b8fb037ed9a9"
   },
   "source": [
    "At this point we have a trained model."
   ]
  },
  {
   "cell_type": "code",
   "execution_count": null,
   "id": "8c79b8ef-1500-480b-998e-d42bc471cfbb",
   "metadata": {
    "id": "8c79b8ef-1500-480b-998e-d42bc471cfbb"
   },
   "outputs": [],
   "source": []
  },
  {
   "cell_type": "markdown",
   "id": "2839efe9-b115-4de9-8681-dfd675938f52",
   "metadata": {
    "id": "2839efe9-b115-4de9-8681-dfd675938f52",
    "jp-MarkdownHeadingCollapsed": true
   },
   "source": [
    "## Eigen Basics"
   ]
  },
  {
   "cell_type": "code",
   "execution_count": null,
   "id": "da2a14e9-3cb5-4023-bafc-f995c1e87ad4",
   "metadata": {
    "id": "da2a14e9-3cb5-4023-bafc-f995c1e87ad4"
   },
   "outputs": [],
   "source": [
    "import numpy as np\n",
    "from scipy.sparse.linalg import LinearOperator"
   ]
  },
  {
   "cell_type": "code",
   "execution_count": null,
   "id": "b0c3e9bd-3bc4-4d35-a099-3f6cb95faabb",
   "metadata": {
    "id": "b0c3e9bd-3bc4-4d35-a099-3f6cb95faabb"
   },
   "outputs": [],
   "source": [
    "def mv(v):\n",
    "    return np.array([2*v[0], 3*v[1], 4*v[2]])"
   ]
  },
  {
   "cell_type": "code",
   "execution_count": null,
   "id": "c1d9ddca-3dc2-4e2d-87b4-095b933aa0f5",
   "metadata": {
    "id": "c1d9ddca-3dc2-4e2d-87b4-095b933aa0f5"
   },
   "outputs": [],
   "source": [
    "A = LinearOperator((3, 3,), matvec=mv)"
   ]
  },
  {
   "cell_type": "code",
   "execution_count": null,
   "id": "a71efa20-a3b9-4361-9db4-545813a4a9c2",
   "metadata": {
    "id": "a71efa20-a3b9-4361-9db4-545813a4a9c2",
    "outputId": "6e63d727-1a99-4d88-93c3-36070f65180c"
   },
   "outputs": [
    {
     "data": {
      "text/plain": [
       "<3x3 _CustomLinearOperator with dtype=float64>"
      ]
     },
     "execution_count": 26,
     "metadata": {},
     "output_type": "execute_result"
    }
   ],
   "source": [
    "A"
   ]
  },
  {
   "cell_type": "code",
   "execution_count": null,
   "id": "34742ab7-2a72-45e0-bb17-c39fc4de6734",
   "metadata": {
    "id": "34742ab7-2a72-45e0-bb17-c39fc4de6734",
    "outputId": "375d3494-a5fd-4ad1-f48e-0fc17674e31f"
   },
   "outputs": [
    {
     "data": {
      "text/plain": [
       "array([2, 3, 4])"
      ]
     },
     "execution_count": 27,
     "metadata": {},
     "output_type": "execute_result"
    }
   ],
   "source": [
    "A.matvec(np.array([1, 1, 1]))"
   ]
  },
  {
   "cell_type": "code",
   "execution_count": null,
   "id": "39bcc747-d289-4419-a29b-6d10b1b025f1",
   "metadata": {
    "id": "39bcc747-d289-4419-a29b-6d10b1b025f1"
   },
   "outputs": [],
   "source": [
    "from scipy.sparse.linalg import eigsh"
   ]
  },
  {
   "cell_type": "code",
   "execution_count": null,
   "id": "40caef0a-4cc2-4bd6-ab6a-e930ecaa8c7c",
   "metadata": {
    "id": "40caef0a-4cc2-4bd6-ab6a-e930ecaa8c7c"
   },
   "outputs": [],
   "source": [
    "eigenvalues, eigenvectors = eigsh(A, k=2, which='LA') # LA = largest algebraic"
   ]
  },
  {
   "cell_type": "code",
   "execution_count": null,
   "id": "7cd4ab4f-226e-4bab-88b0-65b539221931",
   "metadata": {
    "id": "7cd4ab4f-226e-4bab-88b0-65b539221931",
    "outputId": "20012a97-0fc8-4679-82bd-3540d64d5ed1"
   },
   "outputs": [
    {
     "data": {
      "text/plain": [
       "array([3., 4.])"
      ]
     },
     "execution_count": 30,
     "metadata": {},
     "output_type": "execute_result"
    }
   ],
   "source": [
    "eigenvalues"
   ]
  },
  {
   "cell_type": "code",
   "execution_count": null,
   "id": "2356df03-589b-4043-8470-68bad9aa3425",
   "metadata": {
    "id": "2356df03-589b-4043-8470-68bad9aa3425",
    "outputId": "0823e8d7-b265-405e-ec1e-db96c33c95d0"
   },
   "outputs": [
    {
     "data": {
      "text/plain": [
       "array([[ 0.00000000e+00,  0.00000000e+00],\n",
       "       [-1.00000000e+00,  2.04509905e-16],\n",
       "       [ 0.00000000e+00,  1.00000000e+00]])"
      ]
     },
     "execution_count": 31,
     "metadata": {},
     "output_type": "execute_result"
    }
   ],
   "source": [
    "eigenvectors"
   ]
  },
  {
   "cell_type": "markdown",
   "id": "994eba95-b710-4a65-b2e2-39ac6fbfca7e",
   "metadata": {
    "id": "994eba95-b710-4a65-b2e2-39ac6fbfca7e"
   },
   "source": [
    "## Hessian Eigenspectrum"
   ]
  },
  {
   "cell_type": "markdown",
   "id": "7a3b184e-0978-4b3e-b02c-0950596f6a0a",
   "metadata": {
    "id": "7a3b184e-0978-4b3e-b02c-0950596f6a0a",
    "jp-MarkdownHeadingCollapsed": true
   },
   "source": [
    "### Setting up the training data"
   ]
  },
  {
   "cell_type": "code",
   "execution_count": null,
   "id": "b1a36baa-d27a-4eed-89b2-68d9e91bd5c5",
   "metadata": {
    "id": "b1a36baa-d27a-4eed-89b2-68d9e91bd5c5"
   },
   "outputs": [],
   "source": [
    "# Create a toy dataset\n",
    "import torch\n",
    "torch.manual_seed(0)\n",
    "\n",
    "# training data has 2 eaxmples\n",
    "x_train = torch.rand(2, 3)\n",
    "y_train = torch.rand(2, 2)"
   ]
  },
  {
   "cell_type": "code",
   "execution_count": null,
   "id": "a3a97d41-c485-4448-be02-2894d2928c52",
   "metadata": {
    "id": "a3a97d41-c485-4448-be02-2894d2928c52",
    "outputId": "241ef8d5-d000-472a-b4e1-7acd83cf5002"
   },
   "outputs": [
    {
     "data": {
      "text/plain": [
       "tensor([[0.4963, 0.7682, 0.0885],\n",
       "        [0.1320, 0.3074, 0.6341]])"
      ]
     },
     "execution_count": 2,
     "metadata": {},
     "output_type": "execute_result"
    }
   ],
   "source": [
    "x_train"
   ]
  },
  {
   "cell_type": "code",
   "execution_count": null,
   "id": "56344db8-2b09-4c86-bc17-2abbead349d4",
   "metadata": {
    "id": "56344db8-2b09-4c86-bc17-2abbead349d4",
    "outputId": "896e445b-1375-4c5b-99e5-08ba9a473c1c"
   },
   "outputs": [
    {
     "data": {
      "text/plain": [
       "tensor([[0.4901, 0.8964],\n",
       "        [0.4556, 0.6323]])"
      ]
     },
     "execution_count": 3,
     "metadata": {},
     "output_type": "execute_result"
    }
   ],
   "source": [
    "y_train"
   ]
  },
  {
   "cell_type": "code",
   "execution_count": null,
   "id": "3b36c04a-77d3-45c6-acd2-e61ca404fad1",
   "metadata": {
    "id": "3b36c04a-77d3-45c6-acd2-e61ca404fad1"
   },
   "outputs": [],
   "source": [
    "# using TensorDataset and DataLoader\n",
    "from torch.utils.data import DataLoader, TensorDataset\n",
    "\n",
    "train_ds = TensorDataset(x_train, y_train)\n",
    "train_dl = DataLoader(train_ds, batch_size=1)"
   ]
  },
  {
   "cell_type": "markdown",
   "id": "5d9b9940-c5d5-4322-9eb4-47e68742687e",
   "metadata": {
    "id": "5d9b9940-c5d5-4322-9eb4-47e68742687e",
    "jp-MarkdownHeadingCollapsed": true
   },
   "source": [
    "### Defining the Model"
   ]
  },
  {
   "cell_type": "code",
   "execution_count": null,
   "id": "daf08c54-a126-4d01-b07f-7dfd84afeadc",
   "metadata": {
    "id": "daf08c54-a126-4d01-b07f-7dfd84afeadc"
   },
   "outputs": [],
   "source": [
    "import math\n",
    "from torch import nn\n",
    "\n",
    "class ToyLinear(nn.Module):\n",
    "    def __init__(self):\n",
    "        super().__init__()\n",
    "        self.lin = nn.Linear(3, 2) # W is 2 x 3\n",
    "\n",
    "    def forward(self, xb):\n",
    "        return self.lin(xb)"
   ]
  },
  {
   "cell_type": "code",
   "execution_count": null,
   "id": "bd1a63e7-5729-4a13-bf25-f43ec58c193a",
   "metadata": {
    "id": "bd1a63e7-5729-4a13-bf25-f43ec58c193a"
   },
   "outputs": [],
   "source": [
    "model = ToyLinear()"
   ]
  },
  {
   "cell_type": "code",
   "execution_count": null,
   "id": "56089b89-3a3a-49d9-aef6-cfd8732d7f6c",
   "metadata": {
    "id": "56089b89-3a3a-49d9-aef6-cfd8732d7f6c",
    "outputId": "d82ee3d7-9488-49ef-9687-9c877acb9044"
   },
   "outputs": [
    {
     "data": {
      "text/plain": [
       "[Parameter containing:\n",
       " tensor([[-0.1745, -0.1135, -0.5516],\n",
       "         [-0.3824, -0.2380,  0.0214]], requires_grad=True),\n",
       " Parameter containing:\n",
       " tensor([0.2282, 0.3464], requires_grad=True)]"
      ]
     },
     "execution_count": 7,
     "metadata": {},
     "output_type": "execute_result"
    }
   ],
   "source": [
    "list(model.parameters())"
   ]
  },
  {
   "cell_type": "code",
   "execution_count": null,
   "id": "0060c682-256c-4f12-a2a9-390e31054a2b",
   "metadata": {
    "id": "0060c682-256c-4f12-a2a9-390e31054a2b",
    "outputId": "af80498e-a375-44a8-d027-9ad2231f3095"
   },
   "outputs": [
    {
     "data": {
      "text/plain": [
       "tensor([[ 0.0057, -0.0243],\n",
       "        [-0.1794,  0.2363]], grad_fn=<AddmmBackward0>)"
      ]
     },
     "execution_count": 8,
     "metadata": {},
     "output_type": "execute_result"
    }
   ],
   "source": [
    "model(x_train)"
   ]
  },
  {
   "cell_type": "markdown",
   "id": "f115e932-4af5-4359-9c55-5bf950a0f6a1",
   "metadata": {
    "id": "f115e932-4af5-4359-9c55-5bf950a0f6a1",
    "jp-MarkdownHeadingCollapsed": true
   },
   "source": [
    "### Defining the loss function"
   ]
  },
  {
   "cell_type": "code",
   "execution_count": null,
   "id": "3a04fcd0-bf97-4ad0-81d8-773274d11b92",
   "metadata": {
    "id": "3a04fcd0-bf97-4ad0-81d8-773274d11b92"
   },
   "outputs": [],
   "source": [
    "import torch.nn.functional as F\n",
    "\n",
    "loss_func = F.mse_loss"
   ]
  },
  {
   "cell_type": "code",
   "execution_count": null,
   "id": "0b1f9c02-a083-48f8-95b9-3291bb5467f3",
   "metadata": {
    "id": "0b1f9c02-a083-48f8-95b9-3291bb5467f3",
    "outputId": "1d94a29d-2c2c-42ce-a910-e648459c8430"
   },
   "outputs": [
    {
     "name": "stdout",
     "output_type": "stream",
     "text": [
      "tensor(1.6425, grad_fn=<MseLossBackward0>)\n"
     ]
    }
   ],
   "source": [
    "model.zero_grad()\n",
    "loss = loss_func(model(x_train), y_train, reduction='sum')\n",
    "print(loss)"
   ]
  },
  {
   "cell_type": "code",
   "execution_count": null,
   "id": "40744bba-80ba-41e2-b132-47c4f4db14d4",
   "metadata": {
    "id": "40744bba-80ba-41e2-b132-47c4f4db14d4"
   },
   "outputs": [],
   "source": [
    "# loss.backward()\n",
    "# for p in model.parameters():\n",
    "#     print(p.grad)"
   ]
  },
  {
   "cell_type": "code",
   "execution_count": null,
   "id": "2f39fa72-78cf-4f0e-b335-2bfae7ee1c6d",
   "metadata": {
    "id": "2f39fa72-78cf-4f0e-b335-2bfae7ee1c6d"
   },
   "outputs": [],
   "source": [
    "from torch.autograd import grad\n",
    "\n",
    "def compute_loss():\n",
    "    return loss_func(model(x_train), y_train)"
   ]
  },
  {
   "cell_type": "code",
   "execution_count": null,
   "id": "c019b447-b107-4ca5-9e7d-52cec0dd5a9b",
   "metadata": {
    "id": "c019b447-b107-4ca5-9e7d-52cec0dd5a9b"
   },
   "outputs": [],
   "source": [
    "model.zero_grad()"
   ]
  },
  {
   "cell_type": "code",
   "execution_count": null,
   "id": "2860c878-e5ff-475f-b2ca-e7f56dd5f5eb",
   "metadata": {
    "id": "2860c878-e5ff-475f-b2ca-e7f56dd5f5eb"
   },
   "outputs": [],
   "source": [
    "grad_loss = grad(compute_loss(), model.parameters(), create_graph=True)"
   ]
  },
  {
   "cell_type": "code",
   "execution_count": null,
   "id": "11a2797a-aecf-4600-b186-979ed3eceece",
   "metadata": {
    "id": "11a2797a-aecf-4600-b186-979ed3eceece",
    "outputId": "14ec80e4-28f5-4cf5-9a94-28cddbfcdb98"
   },
   "outputs": [
    {
     "data": {
      "text/plain": [
       "(tensor([[-0.1621, -0.2837, -0.2228],\n",
       "         [-0.2546, -0.4145, -0.1663]], grad_fn=<TBackward0>),\n",
       " tensor([-0.5597, -0.6583], grad_fn=<ViewBackward0>))"
      ]
     },
     "execution_count": 15,
     "metadata": {},
     "output_type": "execute_result"
    }
   ],
   "source": [
    "grad_loss"
   ]
  },
  {
   "cell_type": "code",
   "execution_count": null,
   "id": "94804bf0-30a0-4a55-8bd6-8a0b9e07568a",
   "metadata": {
    "id": "94804bf0-30a0-4a55-8bd6-8a0b9e07568a"
   },
   "outputs": [],
   "source": [
    "flat_grad = torch.cat([g.view(-1) for g in grad_loss])"
   ]
  },
  {
   "cell_type": "code",
   "execution_count": null,
   "id": "c0a0dea6-f6c2-479c-bcab-b7b481a4a179",
   "metadata": {
    "id": "c0a0dea6-f6c2-479c-bcab-b7b481a4a179",
    "outputId": "78ca606f-d549-4d4b-c917-f685ee99d302"
   },
   "outputs": [
    {
     "data": {
      "text/plain": [
       "tensor([-0.1621, -0.2837, -0.2228, -0.2546, -0.4145, -0.1663, -0.5597, -0.6583],\n",
       "       grad_fn=<CatBackward0>)"
      ]
     },
     "execution_count": 17,
     "metadata": {},
     "output_type": "execute_result"
    }
   ],
   "source": [
    "flat_grad"
   ]
  },
  {
   "cell_type": "code",
   "execution_count": null,
   "id": "64a7603d-cb59-4f73-a423-52be14d01813",
   "metadata": {
    "id": "64a7603d-cb59-4f73-a423-52be14d01813"
   },
   "outputs": [],
   "source": [
    "vector = torch.ones_like(flat_grad)"
   ]
  },
  {
   "cell_type": "code",
   "execution_count": null,
   "id": "e3f06fc4-01b4-46f0-9821-c1c3beb4463f",
   "metadata": {
    "id": "e3f06fc4-01b4-46f0-9821-c1c3beb4463f",
    "outputId": "de87d871-3e76-493a-ffa5-6cde30bdab0b"
   },
   "outputs": [
    {
     "data": {
      "text/plain": [
       "tensor([1., 1., 1., 1., 1., 1., 1., 1.])"
      ]
     },
     "execution_count": 19,
     "metadata": {},
     "output_type": "execute_result"
    }
   ],
   "source": [
    "vector"
   ]
  },
  {
   "cell_type": "code",
   "execution_count": null,
   "id": "fa5b81c8-33e9-4974-9b53-8634b1550f0c",
   "metadata": {
    "id": "fa5b81c8-33e9-4974-9b53-8634b1550f0c"
   },
   "outputs": [],
   "source": [
    "gvp = torch.dot(flat_grad, vector)"
   ]
  },
  {
   "cell_type": "code",
   "execution_count": null,
   "id": "0557205a-ebfa-4c39-b61a-8f2ed39c21de",
   "metadata": {
    "id": "0557205a-ebfa-4c39-b61a-8f2ed39c21de",
    "outputId": "10c44e8e-1d03-40f6-a2b6-a921f711ed58"
   },
   "outputs": [
    {
     "data": {
      "text/plain": [
       "tensor(-2.7220, grad_fn=<DotBackward0>)"
      ]
     },
     "execution_count": 21,
     "metadata": {},
     "output_type": "execute_result"
    }
   ],
   "source": [
    "gvp"
   ]
  },
  {
   "cell_type": "code",
   "execution_count": null,
   "id": "a55e4223-fe87-45c1-98c0-bf823f39d744",
   "metadata": {
    "id": "a55e4223-fe87-45c1-98c0-bf823f39d744"
   },
   "outputs": [],
   "source": [
    "hvp = grad(gvp, model.parameters(), create_graph=True)"
   ]
  },
  {
   "cell_type": "code",
   "execution_count": null,
   "id": "838c64b2-f1aa-4b86-9aa7-6070326a795c",
   "metadata": {
    "id": "838c64b2-f1aa-4b86-9aa7-6070326a795c",
    "outputId": "4d5025e8-f4c6-492a-c4cf-8eaab4eae2c6"
   },
   "outputs": [
    {
     "data": {
      "text/plain": [
       "(tensor([[0.7207, 1.2225, 0.7615],\n",
       "         [0.7207, 1.2225, 0.7615]]),\n",
       " tensor([2.2132, 2.2132]))"
      ]
     },
     "execution_count": 23,
     "metadata": {},
     "output_type": "execute_result"
    }
   ],
   "source": [
    "hvp"
   ]
  },
  {
   "cell_type": "code",
   "execution_count": null,
   "id": "72acab1b-5676-4c6e-99e3-7e51830e2c17",
   "metadata": {
    "id": "72acab1b-5676-4c6e-99e3-7e51830e2c17",
    "outputId": "32167040-1a03-4267-a2aa-83dd19e8092d"
   },
   "outputs": [
    {
     "data": {
      "text/plain": [
       "tensor([0.7207, 1.2225, 0.7615, 0.7207, 1.2225, 0.7615, 2.2132, 2.2132])"
      ]
     },
     "execution_count": 24,
     "metadata": {},
     "output_type": "execute_result"
    }
   ],
   "source": [
    "torch.cat([g.contiguous().view(-1) for g in hvp])"
   ]
  },
  {
   "cell_type": "markdown",
   "id": "61326da3-fc8f-4029-970b-202180f2f7b9",
   "metadata": {
    "id": "61326da3-fc8f-4029-970b-202180f2f7b9",
    "jp-MarkdownHeadingCollapsed": true
   },
   "source": [
    "### Computing the HVP"
   ]
  },
  {
   "cell_type": "code",
   "execution_count": null,
   "id": "89faec7b-7816-4755-ba7c-dea358abc6b5",
   "metadata": {
    "id": "89faec7b-7816-4755-ba7c-dea358abc6b5"
   },
   "outputs": [],
   "source": [
    "def hessian_vector_product(vector):\n",
    "    model.zero_grad()\n",
    "    grad_loss = grad(compute_loss(), model.parameters(),\n",
    "                     create_graph=True)\n",
    "    flat_grad = torch.cat([g.view(-1) for g in grad_loss])\n",
    "    gvp = torch.dot(flat_grad, vector)\n",
    "    hvp = grad(gvp, model.parameters(), create_graph=True)\n",
    "    return torch.cat([g.contiguous().view(-1) for g in hvp])"
   ]
  },
  {
   "cell_type": "code",
   "execution_count": null,
   "id": "ad4271d5-fd3b-4e30-afaa-faab6b5ebb56",
   "metadata": {
    "id": "ad4271d5-fd3b-4e30-afaa-faab6b5ebb56",
    "outputId": "37976ec2-4083-45e7-9cd0-05d42caecde6"
   },
   "outputs": [
    {
     "data": {
      "text/plain": [
       "tensor([0.7207, 1.2225, 0.7615, 0.7207, 1.2225, 0.7615, 2.2132, 2.2132])"
      ]
     },
     "execution_count": 26,
     "metadata": {},
     "output_type": "execute_result"
    }
   ],
   "source": [
    "hessian_vector_product(torch.tensor([1., 1., 1., 1., 1., 1., 1., 1.]))"
   ]
  },
  {
   "cell_type": "code",
   "execution_count": null,
   "id": "e4873d15-2a43-42d4-b12d-ebc371a4d1f0",
   "metadata": {
    "id": "e4873d15-2a43-42d4-b12d-ebc371a4d1f0"
   },
   "outputs": [],
   "source": [
    "def matvec(v):\n",
    "   v_tensor = torch.tensor(v, dtype=torch.float32, device='cpu')\n",
    "   return hessian_vector_product(v_tensor).cpu().detach().numpy()"
   ]
  },
  {
   "cell_type": "code",
   "execution_count": null,
   "id": "effa8bb0-0917-4b64-ba32-9a4ecdd57727",
   "metadata": {
    "id": "effa8bb0-0917-4b64-ba32-9a4ecdd57727"
   },
   "outputs": [],
   "source": [
    "import numpy as np\n",
    "from scipy.sparse.linalg import LinearOperator, eigsh\n",
    "\n",
    "num_params = sum(p.numel() for p in model.parameters())\n",
    "linear_operator = LinearOperator((num_params, num_params),\n",
    "                                     matvec=matvec)\n",
    "eigenvalues, eigenvectors = eigsh(linear_operator, k=4,\n",
    "                                  tol=0.001, which='LM',\n",
    "                                  return_eigenvectors=True)\n",
    "eigenvectors = np.transpose(eigenvectors)"
   ]
  },
  {
   "cell_type": "code",
   "execution_count": null,
   "id": "112ca1a1-2741-493a-9f31-d91f1234d8ca",
   "metadata": {
    "id": "112ca1a1-2741-493a-9f31-d91f1234d8ca",
    "outputId": "82423197-4b52-4e5a-8e33-6e2f93274385"
   },
   "outputs": [
    {
     "data": {
      "text/plain": [
       "(array([0.15566683, 0.15566705, 1.5234631 , 1.5234632 ], dtype=float32),\n",
       " array([[ 0.00811201,  0.00983971, -0.01465851,  0.41249985,  0.50035834,\n",
       "         -0.745395  , -0.00301367, -0.15324889],\n",
       "        [ 0.41249973,  0.5003582 , -0.74539524, -0.00811218, -0.00983956,\n",
       "          0.0146585 , -0.1532489 ,  0.00301373],\n",
       "        [ 0.2032492 ,  0.3448863 ,  0.21548319, -0.16686419, -0.28314587,\n",
       "         -0.17690799,  0.62504184, -0.51314855],\n",
       "        [ 0.16686416,  0.28314582,  0.17690799,  0.20324922,  0.34488636,\n",
       "          0.21548317,  0.5131486 ,  0.6250418 ]], dtype=float32))"
      ]
     },
     "execution_count": 29,
     "metadata": {},
     "output_type": "execute_result"
    }
   ],
   "source": [
    "eigenvalues, eigenvectors"
   ]
  },
  {
   "cell_type": "markdown",
   "id": "3ee23e7b-0ef6-401b-b24d-9e27b74e1fa1",
   "metadata": {
    "id": "3ee23e7b-0ef6-401b-b24d-9e27b74e1fa1"
   },
   "source": [
    "### From LW"
   ]
  },
  {
   "cell_type": "code",
   "execution_count": null,
   "id": "a9918a8b-8b37-404f-ba86-02b0f81da23f",
   "metadata": {
    "id": "a9918a8b-8b37-404f-ba86-02b0f81da23f"
   },
   "outputs": [],
   "source": [
    "from scipy.sparse.linalg import LinearOperator, eigsh\n",
    "from torch.autograd import grad\n",
    "\n",
    "def get_hessian_eigenvectors(model, loss_fn, train_data_loader,\n",
    "                             num_batches, device, n_top_vectors,\n",
    "                             param_extract_fn):\n",
    "    \"\"\"\n",
    "    Args:\n",
    "        model:             a pytorch model\n",
    "        loss_fn:           a pytorch loss function\n",
    "        train_data_loader: a pytorch data loader\n",
    "        num_batches:       number of batches to use for the hessian\n",
    "                           calculation\n",
    "        device:            the device to use for the hessian\n",
    "                           calculation\n",
    "        n_top_vectors:     number of top eigenvalues / eigenvectors to\n",
    "                           return\n",
    "        param_extract_fn:  a function that takes a model and returns a\n",
    "                           list of parameters to compute the hessian\n",
    "                           with respect to (pass None to use all\n",
    "                           parameters)\n",
    "    Returns:\n",
    "        A tuple of (eigenvalues, eigenvectors) where\n",
    "            eigenvalues:   a numpy array of the top eigenvalues,\n",
    "                           arranged in increasing order\n",
    "            eigenvectors:  a numpy array of the top eigenvectors,\n",
    "                           arranged in increasing order, shape\n",
    "                           (n_top_vectors, num_params)\n",
    "    \"\"\"\n",
    "    param_extract_fn = param_extract_fn or (lambda x: x.parameters())\n",
    "    num_params = sum(p.numel() for p in param_extract_fn(model))\n",
    "    subset_images, subset_labels = [], []\n",
    "    for batch_idx, (images, labels) in enumerate(train_data_loader):\n",
    "        if batch_idx >= num_batches:\n",
    "           break\n",
    "        subset_images.append(images.to(device))\n",
    "        subset_labels.append(labels.to(device))\n",
    "    subset_images = torch.cat(subset_images)\n",
    "    subset_labels = torch.cat(subset_labels)\n",
    "\n",
    "    def compute_loss():\n",
    "       output = model(subset_images)\n",
    "       return loss_fn(output, subset_labels)\n",
    "\n",
    "    def hessian_vector_product(vector):\n",
    "        model.zero_grad()\n",
    "        grad_params = grad(compute_loss(), param_extract_fn(model),\n",
    "                           create_graph=True) # True for higher derivatives\n",
    "        flat_grad = torch.cat([g.view(-1) for g in grad_params])\n",
    "        grad_vector_product = torch.sum(flat_grad * vector)\n",
    "        hvp = grad(grad_vector_product, param_extract_fn(model),\n",
    "                   retain_graph=True)\n",
    "        return torch.cat([g.contiguous().view(-1) for g in hvp])\n",
    "\n",
    "    def matvec(v):\n",
    "       v_tensor = torch.tensor(v, dtype=torch.float32, device=device)\n",
    "       return hessian_vector_product(v_tensor).cpu().detach().numpy()\n",
    "\n",
    "    linear_operator = LinearOperator((num_params, num_params),\n",
    "                                     matvec=matvec)\n",
    "    eigenvalues, eigenvectors = eigsh(linear_operator, k=n_top_vectors,\n",
    "                                      tol=0.001, which='LM',\n",
    "                                      return_eigenvectors=True)\n",
    "    eigenvectors = np.transpose(eigenvectors)\n",
    "    return eigenvalues, eigenvectors"
   ]
  },
  {
   "cell_type": "code",
   "execution_count": null,
   "id": "00bec844-a9dd-4fc9-833f-1cf2498c5fbf",
   "metadata": {
    "id": "00bec844-a9dd-4fc9-833f-1cf2498c5fbf",
    "outputId": "6af16986-49a0-4fb1-9893-e4938e9dfc02"
   },
   "outputs": [
    {
     "data": {
      "text/plain": [
       "ToyLinear(\n",
       "  (lin): Linear(in_features=3, out_features=2, bias=True)\n",
       ")"
      ]
     },
     "execution_count": 31,
     "metadata": {},
     "output_type": "execute_result"
    }
   ],
   "source": [
    "model"
   ]
  },
  {
   "cell_type": "code",
   "execution_count": null,
   "id": "daf4a43f-5673-4fd8-854c-05e67324cf10",
   "metadata": {
    "id": "daf4a43f-5673-4fd8-854c-05e67324cf10",
    "outputId": "bbf147fe-ff41-4315-ed67-2fac8fa8a656"
   },
   "outputs": [
    {
     "data": {
      "text/plain": [
       "<function torch.nn.functional.mse_loss(input: torch.Tensor, target: torch.Tensor, size_average: Optional[bool] = None, reduce: Optional[bool] = None, reduction: str = 'mean') -> torch.Tensor>"
      ]
     },
     "execution_count": 32,
     "metadata": {},
     "output_type": "execute_result"
    }
   ],
   "source": [
    "loss_func"
   ]
  },
  {
   "cell_type": "code",
   "execution_count": null,
   "id": "5803b69b-7e6f-4a63-a81e-08b78c5b92d5",
   "metadata": {
    "id": "5803b69b-7e6f-4a63-a81e-08b78c5b92d5",
    "outputId": "07547a8d-6bc9-4882-f667-11bf779f42e6"
   },
   "outputs": [
    {
     "data": {
      "text/plain": [
       "<torch.utils.data.dataloader.DataLoader at 0x1054f7020>"
      ]
     },
     "execution_count": 33,
     "metadata": {},
     "output_type": "execute_result"
    }
   ],
   "source": [
    "train_dl"
   ]
  },
  {
   "cell_type": "code",
   "execution_count": null,
   "id": "195d8bc8-bc53-43eb-8433-ec58706b9490",
   "metadata": {
    "id": "195d8bc8-bc53-43eb-8433-ec58706b9490",
    "outputId": "96a42a71-19dc-42ad-d3e8-7700b3e11d1a"
   },
   "outputs": [
    {
     "data": {
      "text/plain": [
       "(tensor([[0.4963, 0.7682, 0.0885],\n",
       "         [0.1320, 0.3074, 0.6341]]),\n",
       " tensor([[0.4901, 0.8964],\n",
       "         [0.4556, 0.6323]]))"
      ]
     },
     "execution_count": 34,
     "metadata": {},
     "output_type": "execute_result"
    }
   ],
   "source": [
    "train_dl.dataset.tensors"
   ]
  },
  {
   "cell_type": "code",
   "execution_count": null,
   "id": "05c8c497-eb9d-4270-aeaf-8eadcd4c8ca3",
   "metadata": {
    "id": "05c8c497-eb9d-4270-aeaf-8eadcd4c8ca3",
    "outputId": "5080be1b-cfdd-41b3-a340-a045d20448ef"
   },
   "outputs": [
    {
     "data": {
      "text/plain": [
       "1"
      ]
     },
     "execution_count": 35,
     "metadata": {},
     "output_type": "execute_result"
    }
   ],
   "source": [
    "train_dl.batch_size"
   ]
  },
  {
   "cell_type": "code",
   "execution_count": null,
   "id": "00b92081-c2e0-4e25-9b65-7c2fdf9c0ed8",
   "metadata": {
    "id": "00b92081-c2e0-4e25-9b65-7c2fdf9c0ed8",
    "outputId": "c78ab164-c39b-4ead-f1cd-50f365cb9fce"
   },
   "outputs": [
    {
     "data": {
      "text/plain": [
       "(array([0.1556669, 0.1556669, 1.523463 , 1.5234632], dtype=float32),\n",
       " array([[ 0.26218978,  0.31803378, -0.47378215, -0.3185566 , -0.3864061 ,\n",
       "          0.575638  , -0.0974069 ,  0.11834781],\n",
       "        [-0.3185567 , -0.38640615,  0.57563806, -0.2621899 , -0.31803378,\n",
       "          0.47378212,  0.11834788,  0.09740682],\n",
       "        [ 0.09786288,  0.16606008,  0.10375345,  0.24408343,  0.41417655,\n",
       "          0.25877532,  0.3009528 ,  0.750617  ],\n",
       "        [-0.24408346, -0.41417658, -0.2587753 ,  0.09786302,  0.16606009,\n",
       "          0.10375339, -0.750617  ,  0.30095273]], dtype=float32))"
      ]
     },
     "execution_count": 36,
     "metadata": {},
     "output_type": "execute_result"
    }
   ],
   "source": [
    "get_hessian_eigenvectors(model=model, loss_fn=loss_func,\n",
    "                         train_data_loader=train_dl, num_batches=5,\n",
    "                         device='cpu', n_top_vectors=4, param_extract_fn=None)"
   ]
  }
 ],
 "metadata": {
  "accelerator": "GPU",
  "colab": {
   "gpuType": "T4",
   "provenance": []
  },
  "kernelspec": {
   "display_name": "Python 3 (ipykernel)",
   "language": "python",
   "name": "python3"
  },
  "language_info": {
   "codemirror_mode": {
    "name": "ipython",
    "version": 3
   },
   "file_extension": ".py",
   "mimetype": "text/x-python",
   "name": "python",
   "nbconvert_exporter": "python",
   "pygments_lexer": "ipython3",
   "version": "3.12.3"
  }
 },
 "nbformat": 4,
 "nbformat_minor": 5
}
